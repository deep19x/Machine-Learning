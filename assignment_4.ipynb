{
 "cells": [
  {
   "cell_type": "markdown",
   "id": "a18251ab",
   "metadata": {},
   "source": [
    "# Assignment 3\n",
    "- Name : Deepinder Singh Saini\n",
    "- Roll No. : 102303673"
   ]
  },
  {
   "cell_type": "markdown",
   "id": "5294a103",
   "metadata": {},
   "source": [
    "Q1. Write a Python program to scrape all available books from the website \n",
    "(https://books.toscrape.com/) Books to Scrape – a live site built for practicing scraping (safe, \n",
    "legal, no anti-bot). For each book, extract the following details: \n",
    "1. Title \n",
    "2. Price \n",
    "3. Availability (In stock / Out of stock) \n",
    "4. Star Rating (One, Two, Three, Four, Five) \n",
    "Store the scraped results into a Pandas DataFrame and export them to a CSV file named \n",
    "books.csv. \n",
    "(Note: Use the requests library to fetch the HTML page. Use BeautifulSoup to parse and extract \n",
    "book details and handle pagination so that books from all pages are scraped) "
   ]
  },
  {
   "cell_type": "code",
   "execution_count": 2,
   "id": "34dfc8d4",
   "metadata": {},
   "outputs": [],
   "source": [
    "import requests\n",
    "from bs4 import BeautifulSoup\n",
    "import pandas as pd\n",
    "\n",
    "titles = []\n",
    "prices = []\n",
    "stocks = []\n",
    "stars = []\n",
    "\n",
    "url = \"https://books.toscrape.com/catalogue/page-1.html\"\n",
    "\n",
    "while url:\n",
    "    page = requests.get(url)\n",
    "    soup = BeautifulSoup(page.text, \"html.parser\")\n",
    "    books = soup.find_all(\"article\", class_=\"product_pod\")\n",
    "    for book in books:\n",
    "        titles.append(book.h3.a[\"title\"])\n",
    "        prices.append(book.find(\"p\", class_=\"price_color\").text)\n",
    "        stocks.append(book.find(\"p\", class_=\"instock availability\").text.strip())\n",
    "        stars.append(book.p[\"class\"][1])\n",
    "    next_btn = soup.find(\"li\", class_=\"next\")\n",
    "    if next_btn:\n",
    "        next_page = next_btn.a[\"href\"]\n",
    "        url = \"https://books.toscrape.com/catalogue/\" + next_page\n",
    "    else:\n",
    "        url = None\n",
    "\n",
    "df = pd.DataFrame({\"Title\": titles, \"Price\": prices, \"Availability\": stocks, \"Star Rating\": stars})\n",
    "df.to_csv(\"books.csv\", index=False)\n"
   ]
  },
  {
   "cell_type": "markdown",
   "id": "c7a44d7e",
   "metadata": {},
   "source": [
    "Q2. Write a Python program to scrape the IMDB Top 250 Movies list \n",
    "(https://www.imdb.com/chart/top/) . For each movie, extract the following details: \n",
    "1. Rank (1–250) \n",
    "2. Movie Title \n",
    "3. Year of Release \n",
    "4. IMDB Rating \n",
    "Store the results in a Pandas DataFrame and export it to a CSV file named imdb_top250.csv. "
   ]
  },
  {
   "cell_type": "code",
   "execution_count": 6,
   "id": "1b154baf",
   "metadata": {},
   "outputs": [],
   "source": [
    "import requests\n",
    "from bs4 import BeautifulSoup\n",
    "import pandas as pd\n",
    "import re\n",
    "\n",
    "response = requests.get(\"https://www.imdb.com/chart/top/\", headers={\"User-Agent\":\"Mozilla/5.0\"})\n",
    "soup = BeautifulSoup(response.text, \"html.parser\")\n",
    "\n",
    "ranks = []\n",
    "titles = []\n",
    "years = []\n",
    "ratings = []\n",
    "\n",
    "rows = soup.select(\"table.chart.full-width tr\")\n",
    "for row in rows[1:]:\n",
    "    rank_col = row.find(\"td\", class_=\"titleColumn\")\n",
    "    rating_col = row.find(\"td\", class_=\"ratingColumn imdbRating\")\n",
    "    if rank_col and rating_col:\n",
    "        rank_text = rank_col.get_text(strip=True)\n",
    "        rank = int(rank_text.split('\\n')[0].strip().strip('.'))\n",
    "        title = rank_col.a.text\n",
    "        year = re.search(r\"\\((\\d{4})\\)\", rank_col.find(\"span\", class_=\"secondaryInfo\").text).group(1)\n",
    "        rating = rating_col.strong.text\n",
    "        ranks.append(rank)\n",
    "        titles.append(title)\n",
    "        years.append(year)\n",
    "        ratings.append(rating)\n",
    "\n",
    "df = pd.DataFrame({\"Rank\": ranks, \"Movie Title\": titles, \"Year\": years, \"IMDB Rating\": ratings})\n",
    "df.to_csv(\"imdb_top250.csv\", index=False)\n",
    "\n"
   ]
  },
  {
   "cell_type": "markdown",
   "id": "cd4d8552",
   "metadata": {},
   "source": [
    "Q3. Write a Python program to scrape the weather information for top world cities from the \n",
    "given website (https://www.timeanddate.com/weather/) . For each city, extract the following \n",
    "details: \n",
    "1. City Name \n",
    "2. Temperature \n",
    "3. Weather Condition (e.g., Clear, Cloudy, Rainy, etc.) \n",
    "Store the results in a Pandas DataFrame and export it to a CSV file named weather.csv."
   ]
  },
  {
   "cell_type": "code",
   "execution_count": 3,
   "id": "e9a9fb8d",
   "metadata": {},
   "outputs": [],
   "source": [
    "import requests\n",
    "from bs4 import BeautifulSoup\n",
    "import pandas as pd\n",
    "\n",
    "url = \"https://www.timeanddate.com/weather/\"\n",
    "page = requests.get(url)\n",
    "soup = BeautifulSoup(page.text, \"html.parser\")\n",
    "\n",
    "cities = []\n",
    "temps = []\n",
    "conds = []\n",
    "\n",
    "rows = soup.select(\"table tbody tr\")[:20]\n",
    "for row in rows:\n",
    "    cols = row.find_all(\"td\")\n",
    "    if len(cols) > 2:\n",
    "        cities.append(cols[0].text.strip())\n",
    "        temps.append(cols[1].text.strip())\n",
    "        conds.append(cols[2].text.strip())\n",
    "\n",
    "df = pd.DataFrame({\"City\": cities, \"Temperature\": temps, \"Condition\": conds})\n",
    "df.to_csv(\"weather.csv\", index=False)\n"
   ]
  }
 ],
 "metadata": {
  "kernelspec": {
   "display_name": "venv (3.13.5)",
   "language": "python",
   "name": "python3"
  },
  "language_info": {
   "codemirror_mode": {
    "name": "ipython",
    "version": 3
   },
   "file_extension": ".py",
   "mimetype": "text/x-python",
   "name": "python",
   "nbconvert_exporter": "python",
   "pygments_lexer": "ipython3",
   "version": "3.13.5"
  }
 },
 "nbformat": 4,
 "nbformat_minor": 5
}
