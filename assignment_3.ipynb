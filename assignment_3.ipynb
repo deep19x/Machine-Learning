{
 "cells": [
  {
   "cell_type": "markdown",
   "id": "bb645948",
   "metadata": {},
   "source": [
    "# Assignment 3\n",
    "- Name : Deepinder Singh Saini\n",
    "- Roll No. : 102303673"
   ]
  },
  {
   "cell_type": "markdown",
   "id": "c1591292",
   "metadata": {},
   "source": [
    "Q1: K-Fold Cross Validation for Multiple Linear Regression (Least Square Error Fit)  \n",
    "Download the dataset regarding USA House Price Prediction from the following link:  \n",
    "https://drive.google.com/file/d/1O_NwpJT-8xGfU_-3llUl2sgPu0xllOrX/view?usp=sharing  \n",
    "Load the dataset and Implement 5- fold cross validation for multiple linear regression \n",
    "(using least square error fit).  \n",
    "Steps:  \n",
    "a) Divide the dataset into input features (all columns except price) and output variable  \n",
    "(price)  \n",
    "b) Scale the values of input features.  \n",
    "c) Divide input and output features into five folds.  \n",
    "d) Run five iterations, in each iteration consider one-fold as test set and remaining \n",
    "four sets as training set. Find the beta (𝛽) matrix, predicted values, and R2_score \n",
    "for each iteration using least square error fit.  \n",
    "e) Use the best value of (𝛽) matrix (for which R2_score is maximum), to train the regressor for 70% of data and test the performance for remaining 30% data."
   ]
  },
  {
   "cell_type": "code",
   "execution_count": 1,
   "id": "714ce759",
   "metadata": {},
   "outputs": [],
   "source": [
    "import pandas as pd\n",
    "import numpy as np"
   ]
  },
  {
   "cell_type": "code",
   "execution_count": 2,
   "id": "f22c7b54",
   "metadata": {},
   "outputs": [],
   "source": [
    "data = pd.read_csv(\"datasetML3/USA_Housing.csv\")\n",
    "X = data.drop(\"Price\", axis=1).values\n",
    "y = data[\"Price\"].values"
   ]
  },
  {
   "cell_type": "code",
   "execution_count": 3,
   "id": "2180b266",
   "metadata": {},
   "outputs": [],
   "source": [
    "from sklearn.model_selection import KFold, train_test_split\n",
    "from sklearn.preprocessing import StandardScaler\n",
    "from sklearn.metrics import r2_score\n"
   ]
  },
  {
   "cell_type": "code",
   "execution_count": 4,
   "id": "5ad247e8",
   "metadata": {},
   "outputs": [],
   "source": [
    "scaler = StandardScaler()\n",
    "X = scaler.fit_transform(X)\n",
    "\n",
    "kf = KFold(n_splits=5, shuffle=True, random_state=1)"
   ]
  },
  {
   "cell_type": "code",
   "execution_count": 5,
   "id": "a1ebd0c4",
   "metadata": {},
   "outputs": [],
   "source": [
    "best_r2 = -999\n",
    "best_beta = None\n",
    "fold = 1"
   ]
  },
  {
   "cell_type": "code",
   "execution_count": 6,
   "id": "a075ef87",
   "metadata": {},
   "outputs": [
    {
     "name": "stdout",
     "output_type": "stream",
     "text": [
      "Fold 1 R2: 0.9215935236979075\n",
      "Fold 2 R2: 0.9103750966275798\n",
      "Fold 3 R2: 0.9122196024515719\n",
      "Fold 4 R2: 0.9189354745915842\n",
      "Fold 5 R2: 0.9245545959223683\n",
      "\n",
      "Best R2: 0.9245545959223683\n",
      "Best Beta: [1231877.38800101  229760.39069988  163970.88379553  121802.91672949\n",
      "    1457.42287297  151113.18179475]\n"
     ]
    }
   ],
   "source": [
    "for train_idx, test_idx in kf.split(X):\n",
    "    X_train, X_test = X[train_idx], X[test_idx]\n",
    "    y_train, y_test = y[train_idx], y[test_idx]\n",
    "\n",
    "    # add bias column of ones\n",
    "    X_train_b = np.c_[np.ones(len(X_train)), X_train]\n",
    "    X_test_b = np.c_[np.ones(len(X_test)), X_test]\n",
    "\n",
    "    # beta = (X^T X)^-1 X^T y\n",
    "    beta = np.linalg.inv(X_train_b.T @ X_train_b) @ (X_train_b.T @ y_train)\n",
    "\n",
    "    y_pred = X_test_b @ beta\n",
    "    r2 = r2_score(y_test, y_pred)\n",
    "\n",
    "    print(\"Fold\", fold, \"R2:\", r2)\n",
    "    fold += 1\n",
    "\n",
    "    if r2 > best_r2:\n",
    "        best_r2 = r2\n",
    "        best_beta = beta\n",
    "\n",
    "print(\"\\nBest R2:\", best_r2)\n",
    "print(\"Best Beta:\", best_beta)"
   ]
  },
  {
   "cell_type": "code",
   "execution_count": 10,
   "id": "1935d5e7",
   "metadata": {},
   "outputs": [
    {
     "name": "stdout",
     "output_type": "stream",
     "text": [
      "Final 70-30 R2: 0.91669122715985\n"
     ]
    }
   ],
   "source": [
    "X_train, X_test, y_train, y_test = train_test_split(X, y, train_size=0.7, random_state=1)\n",
    "X_train_b = np.c_[np.ones(len(X_train)), X_train]\n",
    "X_test_b = np.c_[np.ones(len(X_test)), X_test]\n",
    "\n",
    "beta_final = np.linalg.inv(X_train_b.T @ X_train_b) @ (X_train_b.T @ y_train)\n",
    "y_pred_final = X_test_b @ beta_final\n",
    "print(\"Final 70-30 R2:\", r2_score(y_test, y_pred_final))"
   ]
  },
  {
   "cell_type": "markdown",
   "id": "89503ded",
   "metadata": {},
   "source": [
    "Q2: Validation Set with Gradient Descent"
   ]
  },
  {
   "cell_type": "code",
   "execution_count": 28,
   "id": "560b8324",
   "metadata": {},
   "outputs": [],
   "source": [
    "X_temp, X_test, y_temp, y_test = train_test_split(X, y, test_size=0.3, random_state=1)\n",
    "X_train, X_val, y_train, y_val = train_test_split(X_temp, y_temp, test_size=0.2, random_state=1)"
   ]
  },
  {
   "cell_type": "code",
   "execution_count": 29,
   "id": "57005f90",
   "metadata": {},
   "outputs": [],
   "source": [
    "X_train_b = np.c_[np.ones(len(X_train)), X_train]\n",
    "X_val_b = np.c_[np.ones(len(X_val)), X_val]\n",
    "X_test_b = np.c_[np.ones(len(X_test)), X_test]"
   ]
  },
  {
   "cell_type": "code",
   "execution_count": 30,
   "id": "09384a9a",
   "metadata": {},
   "outputs": [],
   "source": [
    "def gradient_descent(X, y, lr, iters):\n",
    "    m, n = X.shape\n",
    "    beta = np.zeros(n)\n",
    "    for _ in range(iters):\n",
    "        grad = -(2/m) * (X.T @ (y - X @ beta))\n",
    "        beta -= lr * grad\n",
    "    return beta"
   ]
  },
  {
   "cell_type": "code",
   "execution_count": 31,
   "id": "9d2f7144",
   "metadata": {},
   "outputs": [
    {
     "name": "stdout",
     "output_type": "stream",
     "text": [
      "LR: 0.001 Val R2: 0.677259725055287 Test R2: 0.6885406194155927\n",
      "LR: 0.01 Val R2: 0.9219863212945743 Test R2: 0.9167072179386627\n",
      "LR: 0.1 Val R2: 0.9219864090633332 Test R2: 0.9167072348076073\n",
      "LR: 1 Val R2: -inf Test R2: -inf\n",
      "\n",
      "Best Beta: [1232488.80073994  230880.08572505  163167.26704817  120997.04242009\n",
      "    2965.33799873  150238.15145298]\n"
     ]
    },
    {
     "name": "stderr",
     "output_type": "stream",
     "text": [
      "c:\\Users\\asus\\OneDrive\\Desktop\\s5\\tutorials\\machine learning\\venv\\Lib\\site-packages\\sklearn\\metrics\\_regression.py:1292: RuntimeWarning: overflow encountered in square\n",
      "  numerator = xp.sum(weight * (y_true - y_pred) ** 2, axis=0)\n",
      "c:\\Users\\asus\\OneDrive\\Desktop\\s5\\tutorials\\machine learning\\venv\\Lib\\site-packages\\sklearn\\metrics\\_regression.py:1292: RuntimeWarning: overflow encountered in square\n",
      "  numerator = xp.sum(weight * (y_true - y_pred) ** 2, axis=0)\n"
     ]
    }
   ],
   "source": [
    "rates = [0.001, 0.01, 0.1, 1]\n",
    "best_beta = None\n",
    "best_val_r2 = -999\n",
    "\n",
    "for lr in rates:\n",
    "    beta = gradient_descent(X_train_b, y_train.ravel(), lr, 1000)  # flatten y\n",
    "    r2_val = r2_score(y_val.ravel(), X_val_b @ beta)\n",
    "    r2_test = r2_score(y_test.ravel(), X_test_b @ beta)\n",
    "\n",
    "    print(\"LR:\", lr, \"Val R2:\", r2_val, \"Test R2:\", r2_test)\n",
    "\n",
    "    if r2_val > best_val_r2:\n",
    "        best_val_r2 = r2_val\n",
    "        best_beta = beta\n",
    "\n",
    "print(\"\\nBest Beta:\", best_beta)"
   ]
  },
  {
   "cell_type": "markdown",
   "id": "c4136e74",
   "metadata": {},
   "source": [
    "Q3: Car Price Prediction Preprocessing + Regression"
   ]
  },
  {
   "cell_type": "code",
   "execution_count": 32,
   "id": "8ec31f50",
   "metadata": {},
   "outputs": [],
   "source": [
    "import pandas as pd\n",
    "import numpy as np\n",
    "from sklearn.preprocessing import LabelEncoder, StandardScaler\n",
    "from sklearn.model_selection import train_test_split\n",
    "from sklearn.linear_model import LinearRegression\n",
    "from sklearn.decomposition import PCA\n",
    "from sklearn.metrics import r2_score\n",
    "\n",
    "# load data\n",
    "url = \"https://archive.ics.uci.edu/ml/machine-learning-databases/autos/imports-85.data\"\n",
    "cols = [\"symboling\",\"normalized_losses\",\"make\",\"fuel_type\",\"aspiration\",\"num_doors\",\n",
    "        \"body_style\",\"drive_wheels\",\"engine_location\",\"wheel_base\",\"length\",\"width\",\n",
    "        \"height\",\"curb_weight\",\"engine_type\",\"num_cylinders\",\"engine_size\",\"fuel_system\",\n",
    "        \"bore\",\"stroke\",\"compression_ratio\",\"horsepower\",\"peak_rpm\",\"city_mpg\",\n",
    "        \"highway_mpg\",\"price\"]\n",
    "df = pd.read_csv(url, names=cols, na_values=\"?\")"
   ]
  },
  {
   "cell_type": "code",
   "execution_count": 33,
   "id": "bcc324f6",
   "metadata": {},
   "outputs": [
    {
     "name": "stderr",
     "output_type": "stream",
     "text": [
      "C:\\Users\\asus\\AppData\\Local\\Temp\\ipykernel_5616\\2760300673.py:5: FutureWarning: A value is trying to be set on a copy of a DataFrame or Series through chained assignment using an inplace method.\n",
      "The behavior will change in pandas 3.0. This inplace method will never work because the intermediate object on which we are setting values always behaves as a copy.\n",
      "\n",
      "For example, when doing 'df[col].method(value, inplace=True)', try using 'df.method({col: value}, inplace=True)' or df[col] = df[col].method(value) instead, to perform the operation inplace on the original object.\n",
      "\n",
      "\n",
      "  df[c].fillna(df[c].mean(), inplace=True)\n",
      "C:\\Users\\asus\\AppData\\Local\\Temp\\ipykernel_5616\\2760300673.py:3: FutureWarning: A value is trying to be set on a copy of a DataFrame or Series through chained assignment using an inplace method.\n",
      "The behavior will change in pandas 3.0. This inplace method will never work because the intermediate object on which we are setting values always behaves as a copy.\n",
      "\n",
      "For example, when doing 'df[col].method(value, inplace=True)', try using 'df.method({col: value}, inplace=True)' or df[col] = df[col].method(value) instead, to perform the operation inplace on the original object.\n",
      "\n",
      "\n",
      "  df[c].fillna(df[c].mode()[0], inplace=True)\n"
     ]
    }
   ],
   "source": [
    "for c in df.columns:\n",
    "    if df[c].dtype == \"object\":\n",
    "        df[c].fillna(df[c].mode()[0], inplace=True)\n",
    "    else:\n",
    "        df[c].fillna(df[c].mean(), inplace=True)\n",
    "\n",
    "df = df.dropna(subset=[\"price\"])"
   ]
  },
  {
   "cell_type": "code",
   "execution_count": 34,
   "id": "65a09396",
   "metadata": {},
   "outputs": [
    {
     "name": "stderr",
     "output_type": "stream",
     "text": [
      "C:\\Users\\asus\\AppData\\Local\\Temp\\ipykernel_5616\\3718272143.py:2: FutureWarning: Downcasting behavior in `replace` is deprecated and will be removed in a future version. To retain the old behavior, explicitly call `result.infer_objects(copy=False)`. To opt-in to the future behavior, set `pd.set_option('future.no_silent_downcasting', True)`\n",
      "  df[\"num_doors\"] = df[\"num_doors\"].replace(rep)\n",
      "C:\\Users\\asus\\AppData\\Local\\Temp\\ipykernel_5616\\3718272143.py:3: FutureWarning: Downcasting behavior in `replace` is deprecated and will be removed in a future version. To retain the old behavior, explicitly call `result.infer_objects(copy=False)`. To opt-in to the future behavior, set `pd.set_option('future.no_silent_downcasting', True)`\n",
      "  df[\"num_cylinders\"] = df[\"num_cylinders\"].replace(rep)\n"
     ]
    }
   ],
   "source": [
    "rep = {\"two\":2,\"three\":3,\"four\":4,\"five\":5,\"six\":6,\"eight\":8,\"twelve\":12}\n",
    "df[\"num_doors\"] = df[\"num_doors\"].replace(rep)\n",
    "df[\"num_cylinders\"] = df[\"num_cylinders\"].replace(rep)\n",
    "\n",
    "df = pd.get_dummies(df, columns=[\"body_style\",\"drive_wheels\"], drop_first=True)\n",
    "\n",
    "for c in [\"make\",\"aspiration\",\"engine_location\",\"fuel_type\"]:\n",
    "    df[c] = LabelEncoder().fit_transform(df[c])\n",
    "\n",
    "df[\"fuel_system\"] = df[\"fuel_system\"].apply(lambda x: 1 if \"pfi\" in str(x) else 0)\n",
    "df[\"engine_type\"] = df[\"engine_type\"].apply(lambda x: 1 if \"ohc\" in str(x) else 0)"
   ]
  },
  {
   "cell_type": "code",
   "execution_count": 35,
   "id": "ec18cf82",
   "metadata": {},
   "outputs": [
    {
     "name": "stdout",
     "output_type": "stream",
     "text": [
      "R2 without PCA: 0.7965829228348336\n"
     ]
    }
   ],
   "source": [
    "X = df.drop(\"price\", axis=1)\n",
    "y = df[\"price\"].astype(float)\n",
    "\n",
    "X = StandardScaler().fit_transform(X)\n",
    "\n",
    "# regression\n",
    "X_train, X_test, y_train, y_test = train_test_split(X, y, train_size=0.7, random_state=1)\n",
    "model = LinearRegression()\n",
    "model.fit(X_train, y_train)\n",
    "print(\"R2 without PCA:\", r2_score(y_test, model.predict(X_test)))"
   ]
  },
  {
   "cell_type": "code",
   "execution_count": 36,
   "id": "2995e2a9",
   "metadata": {},
   "outputs": [
    {
     "name": "stdout",
     "output_type": "stream",
     "text": [
      "R2 with PCA: 0.8106448760373239\n"
     ]
    }
   ],
   "source": [
    "pca = PCA(n_components=0.95)\n",
    "X_pca = pca.fit_transform(X)\n",
    "X_train, X_test, y_train, y_test = train_test_split(X_pca, y, train_size=0.7, random_state=1)\n",
    "model2 = LinearRegression()\n",
    "model2.fit(X_train, y_train)\n",
    "print(\"R2 with PCA:\", r2_score(y_test, model2.predict(X_test)))"
   ]
  }
 ],
 "metadata": {
  "kernelspec": {
   "display_name": "venv (3.13.5)",
   "language": "python",
   "name": "python3"
  },
  "language_info": {
   "codemirror_mode": {
    "name": "ipython",
    "version": 3
   },
   "file_extension": ".py",
   "mimetype": "text/x-python",
   "name": "python",
   "nbconvert_exporter": "python",
   "pygments_lexer": "ipython3",
   "version": "3.13.5"
  }
 },
 "nbformat": 4,
 "nbformat_minor": 5
}
