{
 "cells": [
  {
   "cell_type": "markdown",
   "id": "9ea6cb4f",
   "metadata": {},
   "source": [
    "# Assignment 2\n",
    "- Name : Deepinder Singh Saini\n",
    "- Roll No. : 102303673"
   ]
  },
  {
   "cell_type": "markdown",
   "id": "9377095d",
   "metadata": {},
   "source": [
    "**Part I: Based on Feature Selection, Cleaning, and Preprocessing to Construct an Input from Data Source**\n",
    "-(a) Examine the values of each attribute and Select a set of attributes only that would affect to predict\n",
    "future bike buyers to create your input for data mining algorithms. Remove all the unnecessary\n",
    "attributes. (Select features just by analysis).\n",
    "-(b) Create a new Data Frame with the selected attributes only. \n",
    "-(c) Determine a Data value type (Discrete, or Continuous, then Nominal, Ordinal, Interval, Ratio) of \n",
    "each attribute in your selection to identify preprocessing tasks to create input for your data mining."
   ]
  },
  {
   "cell_type": "code",
   "execution_count": 31,
   "id": "7486b750",
   "metadata": {},
   "outputs": [],
   "source": [
    "import pandas as pd\n",
    "import numpy as np"
   ]
  },
  {
   "cell_type": "code",
   "execution_count": 32,
   "id": "e65334a7",
   "metadata": {},
   "outputs": [],
   "source": [
    "#Load Dataset\n",
    "df = pd.read_csv(\"datasetML2/AWCustomers.csv\")"
   ]
  },
  {
   "cell_type": "code",
   "execution_count": 33,
   "id": "55bb2f94",
   "metadata": {},
   "outputs": [
    {
     "name": "stdout",
     "output_type": "stream",
     "text": [
      "Index(['CustomerID', 'Title', 'FirstName', 'MiddleName', 'LastName', 'Suffix',\n",
      "       'AddressLine1', 'AddressLine2', 'City', 'StateProvinceName',\n",
      "       'CountryRegionName', 'PostalCode', 'PhoneNumber', 'BirthDate',\n",
      "       'Education', 'Occupation', 'Gender', 'MaritalStatus', 'HomeOwnerFlag',\n",
      "       'NumberCarsOwned', 'NumberChildrenAtHome', 'TotalChildren',\n",
      "       'YearlyIncome', 'LastUpdated'],\n",
      "      dtype='object')\n"
     ]
    }
   ],
   "source": [
    "print(df.columns);"
   ]
  },
  {
   "cell_type": "code",
   "execution_count": 34,
   "id": "993379a6",
   "metadata": {},
   "outputs": [
    {
     "name": "stdout",
     "output_type": "stream",
     "text": [
      "    BirthDate        Education      Occupation Gender MaritalStatus  \\\n",
      "0  1987-11-13        Bachelors        Clerical      M             M   \n",
      "1  1972-07-21  Partial College        Clerical      M             M   \n",
      "2  1985-11-09        Bachelors        Clerical      F             S   \n",
      "3  1977-10-18  Partial College  Skilled Manual      M             M   \n",
      "4  1975-02-05  Partial College  Skilled Manual      M             S   \n",
      "\n",
      "   NumberCarsOwned  TotalChildren  YearlyIncome  \n",
      "0                3              1         81916  \n",
      "1                2              2         81076  \n",
      "2                3              0         86387  \n",
      "3                2              2         61481  \n",
      "4                1              0         51804  \n"
     ]
    }
   ],
   "source": [
    "#Relevant Columns\n",
    "relevant_features = [\"BirthDate\",\"Education\",\"Occupation\",\"Gender\",\"MaritalStatus\",\"NumberCarsOwned\",\"TotalChildren\",\"YearlyIncome\"]\n",
    "\n",
    "df_relevant = df[relevant_features]\n",
    "print(df_relevant.head())"
   ]
  },
  {
   "cell_type": "code",
   "execution_count": 35,
   "id": "f10b8e9f",
   "metadata": {},
   "outputs": [
    {
     "name": "stdout",
     "output_type": "stream",
     "text": [
      "BirthDate => Discrete,Nominal\n",
      "Education => Discrete,Nominal\n",
      "Occupation => Discrete,Nominal\n",
      "Gender => Discrete,Nominal\n",
      "MaritalStatus => Discrete,Nominal\n",
      "NumberCarsOwned => Discrete,Ordinal\n",
      "TotalChildren => Discrete,Ordinal\n",
      "YearlyIncome => Continuous,Ratio\n"
     ]
    }
   ],
   "source": [
    "for col in df_relevant.columns:\n",
    "    if df_relevant[col].dtype == 'object':\n",
    "        value_type = \"Discrete,Nominal\"\n",
    "    else :\n",
    "        if df_relevant[col].nunique() < 20:\n",
    "            value_type = \"Discrete,Ordinal\"\n",
    "        else :\n",
    "            value_type = \"Continuous,Ratio\"\n",
    "    print(f\"{col} => {value_type}\");\n",
    "    \n",
    "\n"
   ]
  },
  {
   "cell_type": "markdown",
   "id": "4771a0f4",
   "metadata": {},
   "source": [
    "**Question 2**"
   ]
  },
  {
   "cell_type": "code",
   "execution_count": 36,
   "id": "747d9cb0",
   "metadata": {},
   "outputs": [
    {
     "name": "stdout",
     "output_type": "stream",
     "text": [
      "BirthDate          0\n",
      "Education          0\n",
      "Occupation         0\n",
      "Gender             0\n",
      "MaritalStatus      0\n",
      "NumberCarsOwned    0\n",
      "TotalChildren      0\n",
      "YearlyIncome       0\n",
      "dtype: int64\n"
     ]
    }
   ],
   "source": [
    "print(df_relevant.isnull().sum())"
   ]
  },
  {
   "cell_type": "markdown",
   "id": "dda57a2f",
   "metadata": {},
   "source": [
    "**Part II: Data Preprocessing and Transformation**"
   ]
  },
  {
   "cell_type": "code",
   "execution_count": 37,
   "id": "e48f763f",
   "metadata": {},
   "outputs": [
    {
     "data": {
      "text/plain": [
       "BirthDate          0\n",
       "Education          0\n",
       "Occupation         0\n",
       "Gender             0\n",
       "MaritalStatus      0\n",
       "NumberCarsOwned    0\n",
       "TotalChildren      0\n",
       "YearlyIncome       0\n",
       "dtype: int64"
      ]
     },
     "execution_count": 37,
     "metadata": {},
     "output_type": "execute_result"
    }
   ],
   "source": [
    "df_relevant.isnull().sum()\n"
   ]
  },
  {
   "cell_type": "code",
   "execution_count": 38,
   "id": "5685b0eb",
   "metadata": {},
   "outputs": [
    {
     "name": "stdout",
     "output_type": "stream",
     "text": [
      "0        0.496842\n",
      "1        0.489453\n",
      "2        0.536172\n",
      "3        0.317083\n",
      "4        0.231958\n",
      "           ...   \n",
      "18356    0.242065\n",
      "18357    0.312781\n",
      "18358    0.232442\n",
      "18359    0.543121\n",
      "18360    0.980128\n",
      "Name: YearlyIncome_norm, Length: 18361, dtype: float64\n"
     ]
    }
   ],
   "source": [
    "df[\"YearlyIncome_norm\"] = (df[\"YearlyIncome\"]-df[\"YearlyIncome\"].min())/(df[\"YearlyIncome\"].max()-df[\"YearlyIncome\"].min())\n",
    "print(df[\"YearlyIncome_norm\"])"
   ]
  },
  {
   "cell_type": "code",
   "execution_count": 39,
   "id": "eb668a22",
   "metadata": {},
   "outputs": [
    {
     "name": "stdout",
     "output_type": "stream",
     "text": [
      "0        Medium\n",
      "1        Medium\n",
      "2        Medium\n",
      "3           Low\n",
      "4           Low\n",
      "          ...  \n",
      "18356       Low\n",
      "18357       Low\n",
      "18358       Low\n",
      "18359    Medium\n",
      "18360      High\n",
      "Name: Income_bin, Length: 18361, dtype: category\n",
      "Categories (3, object): ['Low' < 'Medium' < 'High']\n"
     ]
    }
   ],
   "source": [
    "df[\"Income_bin\"] = pd.cut(df[\"YearlyIncome\"],bins=3,labels=[\"Low\",\"Medium\",\"High\"])\n",
    "print(df[\"Income_bin\"])"
   ]
  },
  {
   "cell_type": "code",
   "execution_count": 40,
   "id": "7d5d1772",
   "metadata": {},
   "outputs": [
    {
     "name": "stdout",
     "output_type": "stream",
     "text": [
      "0        0.298547\n",
      "1        0.271173\n",
      "2        0.444249\n",
      "3       -0.367391\n",
      "4       -0.682747\n",
      "           ...   \n",
      "18356   -0.645303\n",
      "18357   -0.383327\n",
      "18358   -0.680955\n",
      "18359    0.469993\n",
      "18360    2.088939\n",
      "Name: YearlyIncome_std, Length: 18361, dtype: float64\n"
     ]
    }
   ],
   "source": [
    "df[\"YearlyIncome_std\"] = (df[\"YearlyIncome\"] - df[\"YearlyIncome\"].mean())/(df[\"YearlyIncome\"].std())\n",
    "print(df[\"YearlyIncome_std\"])"
   ]
  },
  {
   "cell_type": "code",
   "execution_count": 41,
   "id": "3d273bf9",
   "metadata": {},
   "outputs": [
    {
     "name": "stdout",
     "output_type": "stream",
     "text": [
      "       CustomerID Title FirstName MiddleName  LastName Suffix  \\\n",
      "0           21173   NaN      Chad          C      Yuan    NaN   \n",
      "1           13249   NaN      Ryan        NaN     Perry    NaN   \n",
      "2           29350   NaN     Julia        NaN  Thompson    NaN   \n",
      "3           13503   NaN  Theodore        NaN     Gomez    NaN   \n",
      "4           22803   NaN  Marshall          J      Shan    NaN   \n",
      "...           ...   ...       ...        ...       ...    ...   \n",
      "18356       25414   NaN     Grace          C    Bailey    NaN   \n",
      "18357       11459   NaN     Tasha        NaN      Deng    NaN   \n",
      "18358       12160   NaN    Jaclyn        NaN     Zhang    NaN   \n",
      "18359       14353   NaN      Erin          I      Reed    NaN   \n",
      "18360       16676   NaN    Amanda        NaN     Perry    NaN   \n",
      "\n",
      "                 AddressLine1 AddressLine2            City  \\\n",
      "0          7090 C. Mount Hood          NaN      Wollongong   \n",
      "1         3651 Willow Lake Rd          NaN         Shawnee   \n",
      "2      1774 Tice Valley Blvd.          NaN     West Covina   \n",
      "3             2103 Baldwin Dr          NaN       Liverpool   \n",
      "4             Am Gallberg 234          NaN           Werne   \n",
      "...                       ...          ...             ...   \n",
      "18356      6627 Camelback Ct.          NaN        Coronado   \n",
      "18357         9627 Kendall Rd          NaN  Port Macquarie   \n",
      "18358       4364 Viera Avenue          NaN       Beaverton   \n",
      "18359  3866 Mt. Everest Court          NaN       Vancouver   \n",
      "18360     7870 Orangewood Dr.          NaN       Grossmont   \n",
      "\n",
      "         StateProvinceName  ... Education_Graduate Degree  \\\n",
      "0          New South Wales  ...                     False   \n",
      "1         British Columbia  ...                     False   \n",
      "2               California  ...                     False   \n",
      "3                  England  ...                     False   \n",
      "4      Nordrhein-Westfalen  ...                     False   \n",
      "...                    ...  ...                       ...   \n",
      "18356           California  ...                      True   \n",
      "18357      New South Wales  ...                     False   \n",
      "18358               Oregon  ...                     False   \n",
      "18359     British Columbia  ...                     False   \n",
      "18360           California  ...                      True   \n",
      "\n",
      "      Education_High School Education_Partial College  \\\n",
      "0                     False                     False   \n",
      "1                     False                      True   \n",
      "2                     False                     False   \n",
      "3                     False                      True   \n",
      "4                     False                      True   \n",
      "...                     ...                       ...   \n",
      "18356                 False                     False   \n",
      "18357                 False                     False   \n",
      "18358                 False                      True   \n",
      "18359                  True                     False   \n",
      "18360                 False                     False   \n",
      "\n",
      "      Education_Partial High School  Occupation_Management  Occupation_Manual  \\\n",
      "0                             False                  False              False   \n",
      "1                             False                  False              False   \n",
      "2                             False                  False              False   \n",
      "3                             False                  False              False   \n",
      "4                             False                  False              False   \n",
      "...                             ...                    ...                ...   \n",
      "18356                         False                  False              False   \n",
      "18357                         False                  False              False   \n",
      "18358                         False                  False              False   \n",
      "18359                         False                  False              False   \n",
      "18360                         False                  False              False   \n",
      "\n",
      "       Occupation_Professional  Occupation_Skilled Manual  Income_bin_Medium  \\\n",
      "0                        False                      False               True   \n",
      "1                        False                      False               True   \n",
      "2                        False                      False               True   \n",
      "3                        False                       True              False   \n",
      "4                        False                       True              False   \n",
      "...                        ...                        ...                ...   \n",
      "18356                    False                       True              False   \n",
      "18357                    False                       True              False   \n",
      "18358                    False                       True              False   \n",
      "18359                    False                      False               True   \n",
      "18360                     True                      False              False   \n",
      "\n",
      "      Income_bin_High  \n",
      "0               False  \n",
      "1               False  \n",
      "2               False  \n",
      "3               False  \n",
      "4               False  \n",
      "...               ...  \n",
      "18356           False  \n",
      "18357           False  \n",
      "18358           False  \n",
      "18359           False  \n",
      "18360            True  \n",
      "\n",
      "[18361 rows x 34 columns]\n"
     ]
    }
   ],
   "source": [
    "df_hotEncode = pd.get_dummies(df,columns=[\"MaritalStatus\",\"Gender\",\"Education\",\"Occupation\",\"Income_bin\"],drop_first=True)\n",
    "print(df_hotEncode)"
   ]
  },
  {
   "cell_type": "markdown",
   "id": "76026a2f",
   "metadata": {},
   "source": [
    "**Part III: Calculating Proximity /Correlation Analysis of two features**\n",
    "Make sure each attribute is transformed in a same scale for numeric attributes and Binarization for each \n",
    "nominal attribute, and each discretized numeric attribute to standardization. Make sure to apply a correct \n",
    "similarity measure for nominal (one hot encoding)/binary attributes and numeric attributes respectively. \n",
    "(a) Calculate Similarity in Simple Matching, Jaccard Similarity, and Cosine Similarity between two \n",
    "following objects of your transformed input data. \n",
    "(b) Calculate Correlation between two features Commute Distance and Yearly Income "
   ]
  },
  {
   "cell_type": "code",
   "execution_count": 49,
   "id": "ed035c45",
   "metadata": {},
   "outputs": [
    {
     "name": "stdout",
     "output_type": "stream",
     "text": [
      "0.14814814814814814\n"
     ]
    }
   ],
   "source": [
    "#Simple Matching\n",
    "row1 = df.iloc[5].values\n",
    "row2 = df.iloc[6].values\n",
    "\n",
    "sms = np.sum(row1 ==  row2) / len(row1)\n",
    "print(sms)\n"
   ]
  },
  {
   "cell_type": "code",
   "execution_count": 47,
   "id": "e31ebb59",
   "metadata": {},
   "outputs": [],
   "source": [
    "#Jaccard Similarity\n",
    "# intersection = np.sum((row1 & row2) == 1)\n",
    "# union = np.sum((row1 | row2) == 1)\n",
    "# jaccard = intersection/union\n",
    "# print(jaccard)"
   ]
  },
  {
   "cell_type": "code",
   "execution_count": null,
   "id": "6053e411",
   "metadata": {},
   "outputs": [
    {
     "ename": "TypeError",
     "evalue": "can't multiply sequence by non-int of type 'str'",
     "output_type": "error",
     "traceback": [
      "\u001b[31m---------------------------------------------------------------------------\u001b[39m",
      "\u001b[31mTypeError\u001b[39m                                 Traceback (most recent call last)",
      "\u001b[36mCell\u001b[39m\u001b[36m \u001b[39m\u001b[32mIn[51]\u001b[39m\u001b[32m, line 2\u001b[39m\n\u001b[32m      1\u001b[39m \u001b[38;5;66;03m#Cosine Similarity\u001b[39;00m\n\u001b[32m----> \u001b[39m\u001b[32m2\u001b[39m cosine = \u001b[43mnp\u001b[49m\u001b[43m.\u001b[49m\u001b[43mdot\u001b[49m\u001b[43m(\u001b[49m\u001b[43mrow1\u001b[49m\u001b[43m,\u001b[49m\u001b[43mrow2\u001b[49m\u001b[43m)\u001b[49m/(np.linalg.norm(row1)*np.linalg.norm(row2))\n\u001b[32m      3\u001b[39m \u001b[38;5;28mprint\u001b[39m(cosine)\n",
      "\u001b[31mTypeError\u001b[39m: can't multiply sequence by non-int of type 'str'"
     ]
    }
   ],
   "source": [
    "#Cosine Similarity\n",
    "# cosine = np.dot(row1,row2)/(np.linalg.norm(row1)*np.linalg.norm(row2))\n",
    "# print(cosine)"
   ]
  }
 ],
 "metadata": {
  "kernelspec": {
   "display_name": "venv (3.13.5)",
   "language": "python",
   "name": "python3"
  },
  "language_info": {
   "codemirror_mode": {
    "name": "ipython",
    "version": 3
   },
   "file_extension": ".py",
   "mimetype": "text/x-python",
   "name": "python",
   "nbconvert_exporter": "python",
   "pygments_lexer": "ipython3",
   "version": "3.13.5"
  }
 },
 "nbformat": 4,
 "nbformat_minor": 5
}
