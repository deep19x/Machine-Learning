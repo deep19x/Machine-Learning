{
 "cells": [
  {
   "cell_type": "markdown",
   "id": "9ea6cb4f",
   "metadata": {},
   "source": [
    "# Assignment 2\n",
    "- Name : Deepinder Singh Saini\n",
    "- Roll No. : 102303673"
   ]
  },
  {
   "cell_type": "markdown",
   "id": "9377095d",
   "metadata": {},
   "source": [
    "**Question 1(a)**"
   ]
  },
  {
   "cell_type": "code",
   "execution_count": 1,
   "id": "7486b750",
   "metadata": {},
   "outputs": [],
   "source": [
    "import pandas as pd"
   ]
  },
  {
   "cell_type": "code",
   "execution_count": 4,
   "id": "e65334a7",
   "metadata": {},
   "outputs": [],
   "source": [
    "#Load Dataset\n",
    "df = pd.read_csv(\"datasetML2/AWCustomers.csv\")"
   ]
  },
  {
   "cell_type": "code",
   "execution_count": 6,
   "id": "55bb2f94",
   "metadata": {},
   "outputs": [
    {
     "name": "stdout",
     "output_type": "stream",
     "text": [
      "Index(['CustomerID', 'Title', 'FirstName', 'MiddleName', 'LastName', 'Suffix',\n",
      "       'AddressLine1', 'AddressLine2', 'City', 'StateProvinceName',\n",
      "       'CountryRegionName', 'PostalCode', 'PhoneNumber', 'BirthDate',\n",
      "       'Education', 'Occupation', 'Gender', 'MaritalStatus', 'HomeOwnerFlag',\n",
      "       'NumberCarsOwned', 'NumberChildrenAtHome', 'TotalChildren',\n",
      "       'YearlyIncome', 'LastUpdated'],\n",
      "      dtype='object')\n"
     ]
    }
   ],
   "source": [
    "print(df.columns);"
   ]
  },
  {
   "cell_type": "code",
   "execution_count": 12,
   "id": "993379a6",
   "metadata": {},
   "outputs": [
    {
     "name": "stdout",
     "output_type": "stream",
     "text": [
      "    BirthDate        Education      Occupation Gender MaritalStatus  \\\n",
      "0  1987-11-13        Bachelors        Clerical      M             M   \n",
      "1  1972-07-21  Partial College        Clerical      M             M   \n",
      "2  1985-11-09        Bachelors        Clerical      F             S   \n",
      "3  1977-10-18  Partial College  Skilled Manual      M             M   \n",
      "4  1975-02-05  Partial College  Skilled Manual      M             S   \n",
      "\n",
      "   NumberCarsOwned  TotalChildren  YearlyIncome  \n",
      "0                3              1         81916  \n",
      "1                2              2         81076  \n",
      "2                3              0         86387  \n",
      "3                2              2         61481  \n",
      "4                1              0         51804  \n"
     ]
    }
   ],
   "source": [
    "#Relevant Columns\n",
    "relevant_features = [\"BirthDate\",\"Education\",\"Occupation\",\"Gender\",\"MaritalStatus\",\"NumberCarsOwned\",\"TotalChildren\",\"YearlyIncome\"]\n",
    "\n",
    "df_relevant = df[relevant_features]\n",
    "print(df_relevant.head())"
   ]
  },
  {
   "cell_type": "code",
   "execution_count": 14,
   "id": "f10b8e9f",
   "metadata": {},
   "outputs": [
    {
     "name": "stdout",
     "output_type": "stream",
     "text": [
      "BirthDate => Discrete,Nominal\n",
      "Education => Discrete,Nominal\n",
      "Occupation => Discrete,Nominal\n",
      "Gender => Discrete,Nominal\n",
      "MaritalStatus => Discrete,Nominal\n",
      "NumberCarsOwned => Discrete,Ordinal\n",
      "TotalChildren => Discrete,Ordinal\n",
      "YearlyIncome => Continuous,Ratio\n"
     ]
    }
   ],
   "source": [
    "for col in df_relevant.columns:\n",
    "    if df_relevant[col].dtype == 'object':\n",
    "        value_type = \"Discrete,Nominal\"\n",
    "    else :\n",
    "        if df_relevant[col].nunique() < 20:\n",
    "            value_type = \"Discrete,Ordinal\"\n",
    "        else :\n",
    "            value_type = \"Continuous,Ratio\"\n",
    "    print(f\"{col} => {value_type}\");\n",
    "    \n",
    "\n"
   ]
  },
  {
   "cell_type": "markdown",
   "id": "4771a0f4",
   "metadata": {},
   "source": [
    "**Question 2**"
   ]
  },
  {
   "cell_type": "code",
   "execution_count": 15,
   "id": "747d9cb0",
   "metadata": {},
   "outputs": [
    {
     "name": "stdout",
     "output_type": "stream",
     "text": [
      "BirthDate          0\n",
      "Education          0\n",
      "Occupation         0\n",
      "Gender             0\n",
      "MaritalStatus      0\n",
      "NumberCarsOwned    0\n",
      "TotalChildren      0\n",
      "YearlyIncome       0\n",
      "dtype: int64\n"
     ]
    }
   ],
   "source": [
    "print(df_relevant.isnull().sum())"
   ]
  },
  {
   "cell_type": "code",
   "execution_count": null,
   "id": "459c9661",
   "metadata": {},
   "outputs": [],
   "source": []
  }
 ],
 "metadata": {
  "kernelspec": {
   "display_name": "venv (3.13.5)",
   "language": "python",
   "name": "python3"
  },
  "language_info": {
   "codemirror_mode": {
    "name": "ipython",
    "version": 3
   },
   "file_extension": ".py",
   "mimetype": "text/x-python",
   "name": "python",
   "nbconvert_exporter": "python",
   "pygments_lexer": "ipython3",
   "version": "3.13.5"
  }
 },
 "nbformat": 4,
 "nbformat_minor": 5
}
