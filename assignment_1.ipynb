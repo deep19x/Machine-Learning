{
 "cells": [
  {
   "cell_type": "markdown",
   "id": "e21a2d47",
   "metadata": {},
   "source": [
    "# Assignment 1\n",
    "- Name : Deepinder Singh Saini\n",
    "- Roll No. : 102303673"
   ]
  },
  {
   "cell_type": "markdown",
   "id": "33ef6767",
   "metadata": {},
   "source": [
    "**Question 1(a)**"
   ]
  },
  {
   "cell_type": "code",
   "execution_count": 20,
   "id": "582ccd96",
   "metadata": {},
   "outputs": [],
   "source": [
    "import numpy as np"
   ]
  },
  {
   "cell_type": "code",
   "execution_count": 21,
   "id": "8dbf782f",
   "metadata": {},
   "outputs": [
    {
     "name": "stdout",
     "output_type": "stream",
     "text": [
      "Reverse Array:  [5 4 3 2 1]\n"
     ]
    }
   ],
   "source": [
    "arr = np.array([1,2,3,4,5])\n",
    "reverse = arr[::-1]\n",
    "print(\"Reverse Array: \",reverse)"
   ]
  },
  {
   "cell_type": "markdown",
   "id": "6e9b2225",
   "metadata": {},
   "source": [
    "**Question 1(b)**"
   ]
  },
  {
   "cell_type": "code",
   "execution_count": 22,
   "id": "679030b0",
   "metadata": {},
   "outputs": [
    {
     "name": "stdout",
     "output_type": "stream",
     "text": [
      "Flattened Array using flatten returns copy:  [1 2 3 2 4 5 1 2 3]\n",
      "Flattened Array using ravel returns original:  [1 2 3 2 4 5 1 2 3]\n"
     ]
    }
   ],
   "source": [
    "array1 = np.array([[1,2,3],\n",
    "           [2,4,5],\n",
    "           [1,2,3]])\n",
    "\n",
    "flattened1 = array1.flatten()\n",
    "print(\"Flattened Array using flatten returns copy: \",flattened1)\n",
    "\n",
    "flattened2 = array1.ravel()\n",
    "print(\"Flattened Array using ravel returns original: \",flattened2)\n",
    "\n"
   ]
  },
  {
   "cell_type": "markdown",
   "id": "a91a74a9",
   "metadata": {},
   "source": [
    "**Question 1(c)**"
   ]
  },
  {
   "cell_type": "code",
   "execution_count": 23,
   "id": "8e36619c",
   "metadata": {},
   "outputs": [
    {
     "data": {
      "text/plain": [
       "True"
      ]
     },
     "execution_count": 23,
     "metadata": {},
     "output_type": "execute_result"
    }
   ],
   "source": [
    "arr1 = np.array([[1,2],[3,4]])\n",
    "arr2 = np.array([[1,2],[3,4]])\n",
    "\n",
    "np.array_equal(arr1,arr2)"
   ]
  },
  {
   "cell_type": "markdown",
   "id": "cb7f5c28",
   "metadata": {},
   "source": [
    "**Question 1(d)**"
   ]
  },
  {
   "cell_type": "code",
   "execution_count": 24,
   "id": "d7a3dbdf",
   "metadata": {},
   "outputs": [
    {
     "name": "stdout",
     "output_type": "stream",
     "text": [
      "Most frequent value in x: 1\n",
      "Indices:  [0 5 7 8 9]\n"
     ]
    }
   ],
   "source": [
    "#1\n",
    "x = np.array([1,2,3,4,5,1,2,1,1,1])\n",
    "values,counts = np.unique(x,return_counts=True)\n",
    "most_freq_val = values[np.argmax(counts)]\n",
    "\n",
    "indices = np.where(x == most_freq_val)[0]\n",
    "\n",
    "print(\"Most frequent value in x:\",most_freq_val)\n",
    "print(\"Indices: \",indices)"
   ]
  },
  {
   "cell_type": "code",
   "execution_count": 25,
   "id": "eff760c0",
   "metadata": {},
   "outputs": [
    {
     "name": "stdout",
     "output_type": "stream",
     "text": [
      "Most frequent value in y: 1\n",
      "Indices:  [0 1 2]\n"
     ]
    }
   ],
   "source": [
    "#2\n",
    "y = np.array([1, 1, 1, 2, 3, 4, 2, 4, 3, 3])\n",
    "values1,counts1 = np.unique(y,return_counts=True)\n",
    "most_freq_val1 = values1[np.argmax(counts1)]\n",
    "\n",
    "indices1 = np.where(y == most_freq_val1)[0]\n",
    "\n",
    "print(\"Most frequent value in y:\",most_freq_val1)\n",
    "print(\"Indices: \",indices1)"
   ]
  },
  {
   "cell_type": "markdown",
   "id": "af67dc45",
   "metadata": {},
   "source": [
    "**Question 1(e)**"
   ]
  },
  {
   "cell_type": "code",
   "execution_count": 26,
   "id": "bc091fe6",
   "metadata": {},
   "outputs": [
    {
     "name": "stdout",
     "output_type": "stream",
     "text": [
      "Sum=  45\n",
      "Row Sum=  [[14]\n",
      " [16]\n",
      " [15]]\n",
      "Column Sum=  [[20  9 16]]\n"
     ]
    }
   ],
   "source": [
    "gfg = np.matrix('[4,1,9;12,3,1;4,5,6]')\n",
    "sum_gfg = gfg.sum()\n",
    "sum_row_gfg = gfg.sum(axis=1)\n",
    "sum_col_gfg = gfg.sum(axis=0)\n",
    "print(\"Sum= \",sum_gfg)\n",
    "print(\"Row Sum= \",sum_row_gfg)\n",
    "print(\"Column Sum= \",sum_col_gfg)"
   ]
  },
  {
   "cell_type": "markdown",
   "id": "2c518b29",
   "metadata": {},
   "source": [
    "**Question 1(f)**"
   ]
  },
  {
   "cell_type": "code",
   "execution_count": 27,
   "id": "72dad98b",
   "metadata": {},
   "outputs": [
    {
     "name": "stdout",
     "output_type": "stream",
     "text": [
      "Sum of Diagonals:  176\n",
      "Eigen Values:  [98.16835147 28.097044   49.73460452]\n",
      "Eigen Vector:  [[ 0.4574917   0.34637121 -0.15017693]\n",
      " [ 0.28447814 -0.72784061 -0.4852124 ]\n",
      " [ 0.84248058  0.59184038  0.8614034 ]]\n",
      "Inverse:  [[ 0.02404141 -0.00911212 -0.00444671]\n",
      " [-0.01667882  0.02966905  0.0024785 ]\n",
      " [ 0.00631287 -0.01603732  0.01217379]]\n",
      "Determinant:  137180.0000000001\n"
     ]
    }
   ],
   "source": [
    "n_array = np.array([[55,25,15],\n",
    "                    [30,44,2],\n",
    "                    [11,45,77]])\n",
    "\n",
    "#1\n",
    "sum_diagonal = np.trace(n_array)\n",
    "print(\"Sum of Diagonals: \",sum_diagonal)\n",
    "\n",
    "#2\n",
    "eigenvalues , eigenvector = np.linalg.eig(n_array)\n",
    "print(\"Eigen Values: \",eigenvalues)\n",
    "\n",
    "#3\n",
    "print(\"Eigen Vector: \",eigenvector)\n",
    "\n",
    "#4\n",
    "inverse = np.linalg.inv(n_array)\n",
    "print(\"Inverse: \",inverse)\n",
    "\n",
    "#5\n",
    "determinant = np.linalg.det(n_array)\n",
    "print(\"Determinant: \",determinant)"
   ]
  },
  {
   "cell_type": "markdown",
   "id": "580155e1",
   "metadata": {},
   "source": [
    "**Question 1(g)**"
   ]
  },
  {
   "cell_type": "code",
   "execution_count": 28,
   "id": "9b0d33ab",
   "metadata": {},
   "outputs": [
    {
     "name": "stdout",
     "output_type": "stream",
     "text": [
      "Multiplication 1:  [[16 19]\n",
      " [26 31]]\n",
      "Covariance 2:  [[0.66666667 1.        ]\n",
      " [1.         1.66666667]]\n",
      "Multiplication 1:  [[16 19  5]\n",
      " [26 31  8]\n",
      " [46 55 14]]\n",
      "Covariance 2:  [[2.16666667 0.23333333]\n",
      " [0.23333333 5.36666667]]\n"
     ]
    }
   ],
   "source": [
    "p1 = np.array([[1, 2], [2, 3]])\n",
    "q1 = np.array([[4, 5], [6, 7]])\n",
    "\n",
    "product1 = np.dot(p1,q1)\n",
    "print(\"Multiplication 1: \",product1)\n",
    "cov1 = np.cov(p1.flatten(),q1.flatten())\n",
    "print(\"Covariance 2: \",cov1)\n",
    "\n",
    "p2 = np.array([[1, 2], [2, 3], [4, 5]])\n",
    "q2 = np.array([[4, 5, 1], [6, 7, 2]])\n",
    "\n",
    "product2 = np.dot(p2, q2)\n",
    "print(\"Multiplication 1: \",product2)\n",
    "cov2 = np.cov(p2.flatten(),q2.flatten())\n",
    "print(\"Covariance 2: \",cov2)"
   ]
  },
  {
   "cell_type": "markdown",
   "id": "375a5ccd",
   "metadata": {},
   "source": [
    "**Question 1(h)**"
   ]
  },
  {
   "cell_type": "code",
   "execution_count": 29,
   "id": "ce109103",
   "metadata": {},
   "outputs": [
    {
     "name": "stdout",
     "output_type": "stream",
     "text": [
      "Inner Product:  [[17 52]\n",
      " [13 62]]\n",
      "Outer Product:  [[ 2 10  0 10 20  6]\n",
      " [ 3 15  0 15 30  9]\n",
      " [ 4 20  0 20 40 12]\n",
      " [ 3 15  0 15 30  9]\n",
      " [ 2 10  0 10 20  6]\n",
      " [ 9 45  0 45 90 27]]\n"
     ]
    }
   ],
   "source": [
    "x = np.array([[2, 3, 4],\n",
    "              [3, 2, 9]])\n",
    "\n",
    "y = np.array([[1, 5, 0],\n",
    "              [5, 10, 3]])\n",
    "\n",
    "#1\n",
    "inner = np.inner(x,y)\n",
    "print(\"Inner Product: \",inner)\n",
    "\n",
    "#2\n",
    "outer = np.outer(x.flatten(),y.flatten())\n",
    "print(\"Outer Product: \",outer)\n"
   ]
  },
  {
   "cell_type": "markdown",
   "id": "f35c63ad",
   "metadata": {},
   "source": [
    "**Question 2(a)**\n"
   ]
  },
  {
   "cell_type": "code",
   "execution_count": 30,
   "id": "6b42de65",
   "metadata": {},
   "outputs": [
    {
     "name": "stdout",
     "output_type": "stream",
     "text": [
      "Absolute Value:  [[1 2 3]\n",
      " [4 5 6]]\n",
      "FLattend Array Percentile:  [-3.5 -0.5  2.5]\n",
      "Row Percentile:  [[-0.5 -5. ]\n",
      " [ 1.  -4. ]\n",
      " [ 2.   0.5]]\n",
      "Column Percentile:  [[-2.75 -0.25 -3.75]\n",
      " [-1.5   1.5  -1.5 ]\n",
      " [-0.25  3.25  0.75]]\n",
      "Mean Flatten:  -0.5\n",
      "Median Flatten:  -0.5\n",
      "SD Flatten:  3.8622100754188224\n",
      "Mean Row:  [ 0.66666667 -1.66666667]\n",
      "Median Row:  [ 1. -4.]\n",
      "SD Row:  [2.05480467 4.78423336]\n",
      "Mean col:  [-1.5  1.5 -1.5]\n",
      "Median col:  [-1.5  1.5 -1.5]\n",
      "SD col:  [2.5 3.5 4.5]\n"
     ]
    }
   ],
   "source": [
    "array = np.array([[1, -2, 3],\n",
    "                  [-4, 5, -6]])\n",
    "\n",
    "#1\n",
    "abs_value = np.abs(array)\n",
    "print(\"Absolute Value: \",abs_value)\n",
    "\n",
    "#2\n",
    "percentile_flattened = np.percentile(array.flatten(),[25,50,75])\n",
    "print(\"FLattend Array Percentile: \",percentile_flattened)\n",
    "\n",
    "percentile_row = np.percentile(array,[25,50,75],axis=1)\n",
    "print(\"Row Percentile: \",percentile_row)\n",
    "\n",
    "percentile_col = np.percentile(array,[25,50,75],axis=0)\n",
    "print(\"Column Percentile: \",percentile_col)\n",
    "\n",
    "#3\n",
    "mean_flatten = np.mean(array.flatten())\n",
    "median_flatten = np.median(array.flatten())\n",
    "sd_flatten = np.std(array.flatten())\n",
    "print(\"Mean Flatten: \",mean_flatten)\n",
    "print(\"Median Flatten: \",median_flatten)\n",
    "print(\"SD Flatten: \",sd_flatten)\n",
    "\n",
    "mean_row = np.mean(array,axis=1)\n",
    "median_row = np.median(array,axis=1)\n",
    "sd_row = np.std(array,axis=1)\n",
    "print(\"Mean Row: \",mean_row)\n",
    "print(\"Median Row: \",median_row)\n",
    "print(\"SD Row: \",sd_row)\n",
    "\n",
    "mean_col = np.mean(array,axis=0)\n",
    "median_col = np.median(array,axis=0)\n",
    "sd_col = np.std(array,axis=0)\n",
    "print(\"Mean col: \",mean_col)\n",
    "print(\"Median col: \",median_col)\n",
    "print(\"SD col: \",sd_col)"
   ]
  },
  {
   "cell_type": "markdown",
   "id": "fa0bb1d6",
   "metadata": {},
   "source": [
    "**Question 2(b)**"
   ]
  },
  {
   "cell_type": "code",
   "execution_count": 31,
   "id": "b4fea6d9",
   "metadata": {},
   "outputs": [
    {
     "name": "stdout",
     "output_type": "stream",
     "text": [
      "Floor:  [-2. -2. -1.  0.  1.  1.  3.]\n",
      "Ceil:  [-1. -1. -0.  1.  2.  2.  3.]\n",
      "Truncated Values:  [-1. -1. -0.  0.  1.  1.  3.]\n",
      "Rounded values:  [-2. -2. -0.  0.  2.  2.  3.]\n"
     ]
    }
   ],
   "source": [
    "a = np.array([-1.8, -1.6, -0.5, 0.5,1.6, 1.8, 3.0])\n",
    "\n",
    "floor_a = np.floor(a)\n",
    "ceil_a = np.ceil(a)\n",
    "trunc_a = np.trunc(a)\n",
    "round_a = np.round(a)\n",
    "\n",
    "print(\"Floor: \",floor_a)\n",
    "print(\"Ceil: \",ceil_a)\n",
    "print(\"Truncated Values: \",trunc_a)\n",
    "print(\"Rounded values: \",round_a)"
   ]
  },
  {
   "cell_type": "markdown",
   "id": "f0178296",
   "metadata": {},
   "source": [
    "**Question 3(a)**"
   ]
  },
  {
   "cell_type": "code",
   "execution_count": 32,
   "id": "33a6fdc4",
   "metadata": {},
   "outputs": [
    {
     "name": "stdout",
     "output_type": "stream",
     "text": [
      "Sorted array: [ 10  16  16  52  54  62 453]\n",
      "Indices of sorted array: [0 3 4 1 5 2 6]\n",
      "4 smallest elements: [10 16 16 52]\n",
      "5 largest elements: [ 16  52  54  62 453]\n"
     ]
    }
   ],
   "source": [
    "array = np.array([10, 52, 62, 16, 16, 54, 453])\n",
    "\n",
    "#1\n",
    "sorted_array = np.sort(array)\n",
    "\n",
    "#2\n",
    "sorted_indices = np.argsort(array)\n",
    "\n",
    "#3\n",
    "smallest = np.sort(array)[:4]\n",
    "\n",
    "#4\n",
    "largest = np.sort(array)[-5:]\n",
    "\n",
    "print(\"Sorted array:\", sorted_array)\n",
    "print(\"Indices of sorted array:\", sorted_indices)\n",
    "print(\"4 smallest elements:\", smallest)\n",
    "print(\"5 largest elements:\", largest)\n",
    "\n"
   ]
  },
  {
   "cell_type": "markdown",
   "id": "e8a8fba3",
   "metadata": {},
   "source": [
    "**Question 3(b)**"
   ]
  },
  {
   "cell_type": "code",
   "execution_count": 33,
   "id": "b02935a3",
   "metadata": {},
   "outputs": [
    {
     "name": "stdout",
     "output_type": "stream",
     "text": [
      "Integers Only:  [1. 2. 3. 2.]\n",
      "Float Only:  [1.2 2.2]\n"
     ]
    }
   ],
   "source": [
    "array = np.array([1.0, 1.2, 2.2, 2.0, 3.0, 2.0])\n",
    "integer_elements = array[np.floor(array) == array]\n",
    "float_elements = array[np.floor(array) != array]\n",
    "\n",
    "print(\"Integers Only: \",integer_elements)\n",
    "print(\"Float Only: \",float_elements)"
   ]
  }
 ],
 "metadata": {
  "kernelspec": {
   "display_name": "venv (3.13.5)",
   "language": "python",
   "name": "python3"
  },
  "language_info": {
   "codemirror_mode": {
    "name": "ipython",
    "version": 3
   },
   "file_extension": ".py",
   "mimetype": "text/x-python",
   "name": "python",
   "nbconvert_exporter": "python",
   "pygments_lexer": "ipython3",
   "version": "3.13.5"
  }
 },
 "nbformat": 4,
 "nbformat_minor": 5
}
